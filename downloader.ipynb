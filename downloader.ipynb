{
 "cells": [
  {
   "cell_type": "code",
   "execution_count": 1,
   "metadata": {},
   "outputs": [],
   "source": [
    "from huggingface_hub import hf_hub_download, login\n",
    "from tqdm.notebook import tqdm"
   ]
  },
  {
   "cell_type": "code",
   "execution_count": null,
   "metadata": {},
   "outputs": [],
   "source": [
    "login(\"\")"
   ]
  },
  {
   "cell_type": "code",
   "execution_count": null,
   "metadata": {},
   "outputs": [],
   "source": [
    "# Download meta-llama/Llama-3.1-8B-Instruct\n",
    "files = [\n",
    "    \"config.json\",\n",
    "    \"generation_config.json\",\n",
    "    \"model-00001-of-00004.safetensors\",\n",
    "    \"model-00002-of-00004.safetensors\",\n",
    "    \"model-00003-of-00004.safetensors\",\n",
    "    \"model-00004-of-00004.safetensors\",\n",
    "    \"model.safetensors.index.json\",\n",
    "    \"special_tokens_map.json\",\n",
    "    \"tokenizer_config.json\",\n",
    "    \"tokenizer.json\",\n",
    "]\n",
    "repo_id = \"meta-llama/Llama-3.1-8B-Instruct\"\n",
    "for file in files:\n",
    "    hf_hub_download(repo_id=repo_id, filename=file, local_dir=\"./llama-8b\")"
   ]
  },
  {
   "cell_type": "code",
   "execution_count": null,
   "metadata": {},
   "outputs": [],
   "source": [
    "# Download deepseek-ai/DeepSeek-R1-Distill-Llama-8B\n",
    "files = [\n",
    "    \"config.json\",\n",
    "    \"generation_config.json\",\n",
    "    \"model-00001-of-000002.safetensors\",\n",
    "    \"model-00002-of-000002.safetensors\",\n",
    "    \"model.safetensors.index.json\",\n",
    "    \"tokenizer_config.json\",\n",
    "    \"tokenizer.json\",\n",
    "]\n",
    "repo_id = \"deepseek-ai/DeepSeek-R1-Distill-Llama-8B\"\n",
    "for file in files:\n",
    "    hf_hub_download(repo_id=repo_id, filename=file, local_dir=\"./llama-8b-deepseek\")"
   ]
  },
  {
   "cell_type": "code",
   "execution_count": 2,
   "metadata": {},
   "outputs": [],
   "source": [
    "# Download Qwen/Qwen2.5-3B-Instruct\n",
    "files = [\n",
    "    \"config.json\",\n",
    "    \"generation_config.json\",\n",
    "    \"merges.txt\",\n",
    "    \"model-00001-of-00002.safetensors\",\n",
    "    \"model-00002-of-00002.safetensors\",\n",
    "    \"model.safetensors.index.json\",\n",
    "    \"tokenizer.json\",\n",
    "    \"tokenizer_config.json\",\n",
    "    \"vocab.json\",\n",
    "]\n",
    "repo_id = \"Qwen/Qwen2.5-3B-Instruct\"\n",
    "for file in files:\n",
    "    hf_hub_download(repo_id=repo_id, filename=file, local_dir=\"./qwen-3b\")"
   ]
  },
  {
   "cell_type": "code",
   "execution_count": 5,
   "metadata": {},
   "outputs": [],
   "source": [
    "# Download meta-llama/Llama-3.2-3B-Instruct\n",
    "files = [\n",
    "    \"config.json\",\n",
    "    \"generation_config.json\",\n",
    "    \"model-00001-of-00002.safetensors\",\n",
    "    \"model-00002-of-00002.safetensors\",\n",
    "    \"model.safetensors.index.json\",\n",
    "    \"special_tokens_map.json\",\n",
    "    \"tokenizer_config.json\",\n",
    "    \"tokenizer.json\",\n",
    "]\n",
    "repo_id = \"meta-llama/Llama-3.2-3B-Instruct\"\n",
    "for file in files:\n",
    "    hf_hub_download(repo_id=repo_id, filename=file, local_dir=\"./llama-3b\")"
   ]
  }
 ],
 "metadata": {
  "kernelspec": {
   "display_name": "base",
   "language": "python",
   "name": "python3"
  },
  "language_info": {
   "codemirror_mode": {
    "name": "ipython",
    "version": 3
   },
   "file_extension": ".py",
   "mimetype": "text/x-python",
   "name": "python",
   "nbconvert_exporter": "python",
   "pygments_lexer": "ipython3",
   "version": "3.12.2"
  }
 },
 "nbformat": 4,
 "nbformat_minor": 2
}
